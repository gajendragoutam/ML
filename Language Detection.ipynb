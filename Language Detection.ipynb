{
 "cells": [
  {
   "cell_type": "code",
   "execution_count": 1,
   "id": "4a642f50",
   "metadata": {},
   "outputs": [],
   "source": [
    "import pandas as pd\n",
    "import numpy as np\n",
    "import matplotlib.pyplot as plt\n",
    "import seaborn as sns"
   ]
  },
  {
   "cell_type": "code",
   "execution_count": 2,
   "id": "684fa973",
   "metadata": {},
   "outputs": [],
   "source": [
    "dff= pd.read_csv(\"language detection dataset.csv\")"
   ]
  },
  {
   "cell_type": "code",
   "execution_count": 3,
   "id": "0183a2bb",
   "metadata": {},
   "outputs": [
    {
     "data": {
      "text/html": [
       "<div>\n",
       "<style scoped>\n",
       "    .dataframe tbody tr th:only-of-type {\n",
       "        vertical-align: middle;\n",
       "    }\n",
       "\n",
       "    .dataframe tbody tr th {\n",
       "        vertical-align: top;\n",
       "    }\n",
       "\n",
       "    .dataframe thead th {\n",
       "        text-align: right;\n",
       "    }\n",
       "</style>\n",
       "<table border=\"1\" class=\"dataframe\">\n",
       "  <thead>\n",
       "    <tr style=\"text-align: right;\">\n",
       "      <th></th>\n",
       "      <th>Text</th>\n",
       "      <th>language</th>\n",
       "    </tr>\n",
       "  </thead>\n",
       "  <tbody>\n",
       "    <tr>\n",
       "      <th>0</th>\n",
       "      <td>klement gottwaldi surnukeha palsameeriti ning ...</td>\n",
       "      <td>Estonian</td>\n",
       "    </tr>\n",
       "    <tr>\n",
       "      <th>1</th>\n",
       "      <td>sebes joseph pereira thomas  på eng the jesuit...</td>\n",
       "      <td>Swedish</td>\n",
       "    </tr>\n",
       "    <tr>\n",
       "      <th>2</th>\n",
       "      <td>ถนนเจริญกรุง อักษรโรมัน thanon charoen krung เ...</td>\n",
       "      <td>Thai</td>\n",
       "    </tr>\n",
       "    <tr>\n",
       "      <th>3</th>\n",
       "      <td>விசாகப்பட்டினம் தமிழ்ச்சங்கத்தை இந்துப் பத்திர...</td>\n",
       "      <td>Tamil</td>\n",
       "    </tr>\n",
       "    <tr>\n",
       "      <th>4</th>\n",
       "      <td>de spons behoort tot het geslacht haliclona en...</td>\n",
       "      <td>Dutch</td>\n",
       "    </tr>\n",
       "  </tbody>\n",
       "</table>\n",
       "</div>"
      ],
      "text/plain": [
       "                                                Text  language\n",
       "0  klement gottwaldi surnukeha palsameeriti ning ...  Estonian\n",
       "1  sebes joseph pereira thomas  på eng the jesuit...   Swedish\n",
       "2  ถนนเจริญกรุง อักษรโรมัน thanon charoen krung เ...      Thai\n",
       "3  விசாகப்பட்டினம் தமிழ்ச்சங்கத்தை இந்துப் பத்திர...     Tamil\n",
       "4  de spons behoort tot het geslacht haliclona en...     Dutch"
      ]
     },
     "execution_count": 3,
     "metadata": {},
     "output_type": "execute_result"
    }
   ],
   "source": [
    "dff.head()"
   ]
  },
  {
   "cell_type": "code",
   "execution_count": 4,
   "id": "3a5000fd",
   "metadata": {},
   "outputs": [
    {
     "data": {
      "text/plain": [
       "(22000, 2)"
      ]
     },
     "execution_count": 4,
     "metadata": {},
     "output_type": "execute_result"
    }
   ],
   "source": [
    "dff.shape"
   ]
  },
  {
   "cell_type": "code",
   "execution_count": 5,
   "id": "3bcea477",
   "metadata": {},
   "outputs": [
    {
     "name": "stdout",
     "output_type": "stream",
     "text": [
      "<class 'pandas.core.frame.DataFrame'>\n",
      "RangeIndex: 22000 entries, 0 to 21999\n",
      "Data columns (total 2 columns):\n",
      " #   Column    Non-Null Count  Dtype \n",
      "---  ------    --------------  ----- \n",
      " 0   Text      22000 non-null  object\n",
      " 1   language  22000 non-null  object\n",
      "dtypes: object(2)\n",
      "memory usage: 343.9+ KB\n"
     ]
    }
   ],
   "source": [
    "dff.info(\n",
    ")"
   ]
  },
  {
   "cell_type": "code",
   "execution_count": 6,
   "id": "52af7577",
   "metadata": {},
   "outputs": [
    {
     "data": {
      "text/plain": [
       "Text        0\n",
       "language    0\n",
       "dtype: int64"
      ]
     },
     "execution_count": 6,
     "metadata": {},
     "output_type": "execute_result"
    }
   ],
   "source": [
    "dff.isnull().sum()"
   ]
  },
  {
   "cell_type": "code",
   "execution_count": 7,
   "id": "b5f44217",
   "metadata": {},
   "outputs": [
    {
     "data": {
      "text/plain": [
       "141"
      ]
     },
     "execution_count": 7,
     "metadata": {},
     "output_type": "execute_result"
    }
   ],
   "source": [
    "dff.duplicated().sum()"
   ]
  },
  {
   "cell_type": "code",
   "execution_count": 8,
   "id": "66fdf51b",
   "metadata": {},
   "outputs": [],
   "source": [
    "dff.drop_duplicates(inplace= True)"
   ]
  },
  {
   "cell_type": "code",
   "execution_count": 9,
   "id": "24fa8fa9",
   "metadata": {},
   "outputs": [
    {
     "data": {
      "text/plain": [
       "(21859, 2)"
      ]
     },
     "execution_count": 9,
     "metadata": {},
     "output_type": "execute_result"
    }
   ],
   "source": [
    "dff.shape"
   ]
  },
  {
   "cell_type": "code",
   "execution_count": 10,
   "id": "a09d4055",
   "metadata": {},
   "outputs": [
    {
     "data": {
      "text/plain": [
       "language\n",
       "Chinese       1000\n",
       "Thai          1000\n",
       "English       1000\n",
       "Japanese      1000\n",
       "Turkish       1000\n",
       "Romanian      1000\n",
       "Urdu          1000\n",
       "Persian       1000\n",
       "Korean        1000\n",
       "Estonian       999\n",
       "Russian        999\n",
       "Arabic         998\n",
       "Portugese      997\n",
       "Spanish        996\n",
       "Dutch          996\n",
       "Pushto         993\n",
       "Swedish        992\n",
       "Hindi          990\n",
       "French         990\n",
       "Tamil          981\n",
       "Indonesian     975\n",
       "Latin          953\n",
       "Name: count, dtype: int64"
      ]
     },
     "execution_count": 10,
     "metadata": {},
     "output_type": "execute_result"
    }
   ],
   "source": [
    "dff[\"language\"].value_counts()"
   ]
  },
  {
   "cell_type": "code",
   "execution_count": 11,
   "id": "2df8214f",
   "metadata": {},
   "outputs": [
    {
     "data": {
      "text/plain": [
       "Text                                                                                                                                                                                                                                                                                                                                                                                                                                                                                                                                                                                                                                                                                                                                                                                                                                                                                                                                                                                                                                                                                     language  \n",
       "                                                                                                                                                                                                                                                                                                                                                                                                                                                                                                                                                                                                                                                                                                                                                                                                                                                                                                                                                                                                                                                                                         Dutch         1\n",
       "علم أحوال التربة أو البيدولوجيا بالإنجليزية pedology هو المسار العلمي المعني بجميع جوانب التربة بما في ذلك خصائصها الفيزيائية والكيميائية ودور الكائنات الحية في إنتاج وخصائص التربة ووصف ورسم الخرائط وحدات التربة ومنشأ وتكوين التربة وفقا لذلك فإن علم خصائص التربة يحتضن مسارات علمية فرعية عدة مثل كيمياء التربة فيزياء التربة وميكروبيولوجيا التربة كل من هذه المسارات تستخدم مجموعة متطورة من الأساليب ومعدات المختبرات لا تختلف عن تلك المستخدمة في الدراسات من الفيزياء والكيمياء وعلم الأحياء المجهرية ولكن أخذ العينات ووصف ورسم خرائط للتربة هو أبسط بكثير ويتم استخدام مثقاب التربة soil auger للحصول على عينات التربة الأساسية في الأماكن التي يتعذر فيها الوصول إلى الطبقات الجوفية ويتم تعريف وحدة التربة ورسمها وتحديدها بطريقة مماثلة للإجراءات في دراسة طبقات الأرض                                                                                                                                                                                                                                                                                                   Arabic        1\n",
       "على شاشات الكمبيوتر الإسترداف بمعنى شكل الدرج  يكون مرئي على الخطوط نتيجة لرسم الخط في مصفوفة من البكسل هذا في حالة عدم استخدام مرشحات التمليس او التنعيم  الإسترداف ينتج عنه عدة عواقب  فمثلا قد تعطي للخط شكل واضح ما إذا كان أفقي أو عمودي تماما بينما يقلل في فهم الشكل على الشاشة عند تحركه او دورانه  تبرز مشاكل اخرى عند إعادة تحجيم الصورة فالخطوط لن يتغير سمكها حتى تصل الصورة إلى حجمها المضاعف او قد تختفي إذا تم تصغير الصورة إلى النصف                                                                                                                                                                                                                                                                                                                                                                                                                                                                                                                                                                                                                                     Arabic        1\n",
       "على الصعيد التعديلات والإصلاحات في الكوريا الرومانية فإنه في  مارس  أقرّ البابا كافة الموظفين في دوائر الكرسي الرسولي في مراكزهم السابقة لحين \"صدور تعيينات جديدة\" في اليوم نفسه عيّن البابا ألفريد جوسيب سكرتيرًا شخصيًا له في  أبريل عيّن البابا أمينًا جديدًا لمجمع الرهبنات وجمعيات الحياة الرسولية بعد شغور دام لعدة أشهر؛ ألغى البابا المكافآت التقليدية التي تدفع للموظفين في الفاتيكان بعد انتخاب البابا الجديد والتي يقدر مجموعها بعدة ملايين من اليورو واستعاض عنها بالتبرع للجمعيات الخيرية في  أبريل  عيّن البابا مجلسًا استشاريًا من ثمانية كرادلة بوصفهم \"مجلس استشاري\" يقدم النصح والمشورة دون أن يكون لهم حق إصدار القرارات تشكيل المجلس جاء متوافقًا مع فلسفة البابا بخصوص \"جماعية اتخاذ القرارات\" أما العمل الأساسي الذي أنيط بالمجلس هو إعادة النظر في الدستور الرسولي المنظم للكوريا الرومانية ومعالجة النقد الموجه لها؛ وسيجتمع المجلس للمرة الأولى بين - أكتوبر وصفت الصحافة الإيطالية القرار بأنه \"يمثل ثورة في حد ذاته\" التقارير الصحفية أفادت بأن نظام السريّة والغموض الذي يحيط بالإدارة الفاتيكانية سيكون من الأمور الهامة التي ستناقش اللجنة كيفية معالجتها  Arabic        1\n",
       "على الرغم من إفادة سيمور إلا أن ويليمز ظل يقول أنه بريء من السرقة وجريمة القتل كما قال \"لن أعترف بجريمة كهذه فلا بد أن الفاعل حاول الوصول إلى مستندات سزتاراي التي تتعلق بالسياسة فلا شك أنها متورطة بأعمال سياسية خارجية\"                                                                                                                                                                                                                                                                                                                                                                                                                                                                                                                                                                                                                                                                                                                                                                                                                                                               Arabic        1\n",
       "                                                                                                                                                                                                                                                                                                                                                                                                                                                                                                                                                                                                                                                                                                                                                                                                                                                                                                                                                                                                                                                                                                      ..\n",
       "many students and teachers were enlisted during world war i which had a significant effect on life at columbia pupils in assembly regularly delivered patriotic \"four-minute speeches\" every room in the school had a full complement of war posters                                                                                                                                                                                                                                                                                                                                                                                                                                                                                                                                                                                                                                                                                                                                                                                                                                     English       1\n",
       "many books about wwii and other wars focus on the military battles and campaigns this one focuses on support roles that gave the allies the edge when the axis seemed to be ahead in so many senses                                                                                                                                                                                                                                                                                                                                                                                                                                                                                                                                                                                                                                                                                                                                                                                                                                                                                      Pushto        1\n",
       "manx adalah kucing yang berasal dari pulau manx sebagian orang menyebut kucing ini dengan sebutan rumpy manx memiliki ekor yang pendek dan warna bulu terdiri dari cokelat dan lavender sifat dari kucing ini adalah setia ramah dan pintar                                                                                                                                                                                                                                                                                                                                                                                                                                                                                                                                                                                                                                                                                                                                                                                                                                              Indonesian    1\n",
       "manuscrisul a fost descoperit în  de către misiunea arheologică franceză într o veche necropolă din akmîm în egiptul de sus a fost publicat la paris în  bouriant \"mémoires publiés par les membres de la mission archéologique française au caire\" t ix fasc   manuscrisul se află acum la muzeul gizeh și s-a susținut că a fost compus între secolele al viii lea și al xii lea până la descoperirea fragmentului despre \"apocalipsa lui petru\" se știa din următoarele surse                                                                                                                                                                                                                                                                                                                                                                                                                                                                                                                                                                                                         Romanian      1\n",
       "，她於月日推出首張精選輯《wish you the best》。專輯連續四週高據銷量榜冠軍，並錄得近百萬的高銷量，是繼出道專輯《delicious way》後再次進入年榜頭十位，更獲日本唱片協會認証為百萬專輯。月至月，開始舉行全國巡迴演唱會「mai kuraki  live tour wish you the best〜grow step by step〜」，而在月日的仙台sun plaza演唱會則完成了場演唱會。在演唱會期間，更於活力門創立以「mai-k diary」為名的博客，主要是倉木的個人日記及演唱會報告。月日，推出全年唯一的單曲《通往明日的橋樑》，更在年底的第回nhk紅白歌合戰中獻唱此曲。                                                                                                                                                                                                                                                                                                                                                                                                                                                                                                                                                                                                                                                                                                                                                                          Chinese       1\n",
       "Name: count, Length: 21859, dtype: int64"
      ]
     },
     "execution_count": 11,
     "metadata": {},
     "output_type": "execute_result"
    }
   ],
   "source": [
    "dff.value_counts()"
   ]
  },
  {
   "cell_type": "code",
   "execution_count": 12,
   "id": "8ea5a944",
   "metadata": {},
   "outputs": [],
   "source": [
    "from sklearn.feature_extraction.text import CountVectorizer\n",
    "from sklearn.model_selection import train_test_split , cross_val_score\n",
    "from sklearn.naive_bayes import MultinomialNB\n",
    "from sklearn.svm import SVC\n",
    "from sklearn.linear_model import LogisticRegression\n",
    "from sklearn.metrics import classification_report, accuracy_score, confusion_matrix"
   ]
  },
  {
   "cell_type": "code",
   "execution_count": 13,
   "id": "1eb64e79",
   "metadata": {},
   "outputs": [],
   "source": [
    "CVzer = CountVectorizer()\n",
    "X = CVzer.fit_transform(dff[\"Text\"])\n",
    "Y = dff[\"language\"]"
   ]
  },
  {
   "cell_type": "code",
   "execution_count": 14,
   "id": "ded354f9",
   "metadata": {},
   "outputs": [
    {
     "name": "stdout",
     "output_type": "stream",
     "text": [
      "  (0, 57772)\t1\n",
      "  (0, 43363)\t1\n",
      "  (0, 104967)\t3\n",
      "  (0, 80287)\t1\n",
      "  (0, 75304)\t2\n",
      "  (0, 80056)\t1\n",
      "  (0, 67653)\t1\n",
      "  (0, 77619)\t1\n",
      "  (0, 2193)\t1\n",
      "  (0, 63122)\t1\n",
      "  (0, 47020)\t1\n",
      "  (0, 53103)\t2\n",
      "  (0, 79323)\t1\n",
      "  (0, 80288)\t1\n",
      "  (0, 45293)\t1\n",
      "  (0, 49445)\t1\n",
      "  (0, 60954)\t1\n",
      "  (0, 112024)\t1\n",
      "  (0, 136)\t1\n",
      "  (0, 117124)\t1\n",
      "  (0, 106285)\t1\n",
      "  (0, 67654)\t1\n",
      "  (0, 122429)\t1\n",
      "  (0, 59244)\t1\n",
      "  (0, 122097)\t1\n",
      "  :\t:\n",
      "  (21858, 123303)\t1\n",
      "  (21858, 17371)\t2\n",
      "  (21858, 4888)\t1\n",
      "  (21858, 74014)\t1\n",
      "  (21858, 66036)\t1\n",
      "  (21858, 81608)\t1\n",
      "  (21858, 123334)\t1\n",
      "  (21858, 38077)\t1\n",
      "  (21858, 6023)\t1\n",
      "  (21858, 104844)\t1\n",
      "  (21858, 40786)\t1\n",
      "  (21858, 6037)\t1\n",
      "  (21858, 103845)\t1\n",
      "  (21858, 84356)\t1\n",
      "  (21858, 70726)\t1\n",
      "  (21858, 101742)\t2\n",
      "  (21858, 69551)\t1\n",
      "  (21858, 95539)\t1\n",
      "  (21858, 69301)\t2\n",
      "  (21858, 101537)\t1\n",
      "  (21858, 102254)\t1\n",
      "  (21858, 88346)\t1\n",
      "  (21858, 20053)\t1\n",
      "  (21858, 123275)\t1\n",
      "  (21858, 43690)\t1\n"
     ]
    }
   ],
   "source": [
    "print(X)"
   ]
  },
  {
   "cell_type": "code",
   "execution_count": 15,
   "id": "4e306b14",
   "metadata": {},
   "outputs": [
    {
     "name": "stdout",
     "output_type": "stream",
     "text": [
      "0        Estonian\n",
      "1         Swedish\n",
      "2            Thai\n",
      "3           Tamil\n",
      "4           Dutch\n",
      "           ...   \n",
      "21995      French\n",
      "21996        Thai\n",
      "21997     Spanish\n",
      "21998     Chinese\n",
      "21999    Romanian\n",
      "Name: language, Length: 21859, dtype: object\n"
     ]
    }
   ],
   "source": [
    "print(Y)"
   ]
  },
  {
   "cell_type": "code",
   "execution_count": 16,
   "id": "41cad74e",
   "metadata": {},
   "outputs": [
    {
     "data": {
      "text/plain": [
       "(21859, 277720)"
      ]
     },
     "execution_count": 16,
     "metadata": {},
     "output_type": "execute_result"
    }
   ],
   "source": [
    "X.shape"
   ]
  },
  {
   "cell_type": "code",
   "execution_count": 17,
   "id": "d6e7c8da",
   "metadata": {},
   "outputs": [
    {
     "data": {
      "text/plain": [
       "(21859,)"
      ]
     },
     "execution_count": 17,
     "metadata": {},
     "output_type": "execute_result"
    }
   ],
   "source": [
    "Y.shape"
   ]
  },
  {
   "cell_type": "code",
   "execution_count": 18,
   "id": "d9ac7529",
   "metadata": {},
   "outputs": [],
   "source": [
    "x_train, x_test, y_train, y_test = train_test_split(X,Y, test_size = 0.3, random_state=42)"
   ]
  },
  {
   "cell_type": "code",
   "execution_count": 19,
   "id": "e4260c48",
   "metadata": {},
   "outputs": [
    {
     "name": "stdout",
     "output_type": "stream",
     "text": [
      "LogisticRegression()\n",
      "\n",
      "Accuracy on training data is  0.9999428146623206\n",
      " Accuracy  score: 0.9439615736505031\n"
     ]
    }
   ],
   "source": [
    "LR = LogisticRegression()\n",
    "LR.fit(x_train, y_train)\n",
    "pred_LR= LR.predict(x_test)\n",
    "train_accuracy = LR.score(x_train, y_train)\n",
    "\n",
    "print(LR)\n",
    "print()\n",
    "print('Accuracy on training data is ' , train_accuracy)\n",
    "print(' Accuracy  score:', accuracy_score(y_test, pred_LR))"
   ]
  },
  {
   "cell_type": "code",
   "execution_count": 20,
   "id": "24b6cf19",
   "metadata": {},
   "outputs": [
    {
     "name": "stdout",
     "output_type": "stream",
     "text": [
      "MultinomialNB()\n",
      "\n",
      "Accuracy on training data is  0.984159661462801\n",
      " Accuracy  score: 0.9542543458371455\n"
     ]
    }
   ],
   "source": [
    "MNB = MultinomialNB()\n",
    "MNB.fit(x_train, y_train)\n",
    "pred_MNB= MNB.predict(x_test)\n",
    "train_accuracy = MNB.score(x_train, y_train)\n",
    "\n",
    "print(MNB)\n",
    "print()\n",
    "print('Accuracy on training data is ' , train_accuracy)\n",
    "print(' Accuracy  score:', accuracy_score(y_test, pred_MNB))"
   ]
  },
  {
   "cell_type": "code",
   "execution_count": 21,
   "id": "e21271d5",
   "metadata": {},
   "outputs": [
    {
     "name": "stdout",
     "output_type": "stream",
     "text": [
      "SVC()\n",
      "\n",
      "Accuracy on training data is  0.958369074169383\n",
      " Accuracy  score: 0.8966148215919487\n"
     ]
    }
   ],
   "source": [
    "svc = SVC()\n",
    "svc.fit(x_train, y_train)\n",
    "pred_svc= svc.predict(x_test)\n",
    "train_accuracy = svc.score(x_train, y_train)\n",
    "\n",
    "print(svc)\n",
    "print()\n",
    "print('Accuracy on training data is ' , train_accuracy)\n",
    "print(' Accuracy  score:', accuracy_score(y_test, pred_svc))"
   ]
  },
  {
   "cell_type": "code",
   "execution_count": 22,
   "id": "6bd57e0b",
   "metadata": {},
   "outputs": [
    {
     "name": "stdout",
     "output_type": "stream",
     "text": [
      "cross-validation score [0.93796455 0.94139508 0.94137832 0.94309408 0.94538176]\n",
      "mean  validation score 0.9418427589571587\n"
     ]
    }
   ],
   "source": [
    "score= cross_val_score(LR, x_train, y_train, cv=5)\n",
    "print (\"cross-validation score\" , score)\n",
    "print(\"mean  validation score\", score.mean())"
   ]
  },
  {
   "cell_type": "code",
   "execution_count": 23,
   "id": "eb61db2e",
   "metadata": {},
   "outputs": [
    {
     "name": "stdout",
     "output_type": "stream",
     "text": [
      "cross-validation score [0.9514008  0.95368782 0.95453246 0.95481842 0.9542465 ]\n",
      "mean  validation score 0.9537371982486663\n"
     ]
    }
   ],
   "source": [
    "score= cross_val_score(MNB, x_train, y_train, cv=5)\n",
    "print (\"cross-validation score\" , score)\n",
    "print(\"mean  validation score\", score.mean())"
   ]
  },
  {
   "cell_type": "code",
   "execution_count": 24,
   "id": "58b7a172",
   "metadata": {},
   "outputs": [
    {
     "name": "stdout",
     "output_type": "stream",
     "text": [
      "cross-validation score [0.87678674 0.88736421 0.89104947 0.88018301 0.89047755]\n",
      "mean  validation score 0.8851721961141894\n"
     ]
    }
   ],
   "source": [
    "score= cross_val_score(svc, x_train, y_train, cv=5)\n",
    "print (\"cross-validation score\" , score)\n",
    "print(\"mean  validation score\", score.mean())"
   ]
  },
  {
   "cell_type": "code",
   "execution_count": 25,
   "id": "ed2b66c3",
   "metadata": {},
   "outputs": [],
   "source": [
    "import joblib"
   ]
  },
  {
   "cell_type": "code",
   "execution_count": 27,
   "id": "1a769021",
   "metadata": {},
   "outputs": [
    {
     "data": {
      "text/plain": [
       "['Language_Detection.pkl']"
      ]
     },
     "execution_count": 27,
     "metadata": {},
     "output_type": "execute_result"
    }
   ],
   "source": [
    "joblib.dump(MNB , \"Language_Detection.pkl\")"
   ]
  },
  {
   "cell_type": "code",
   "execution_count": 32,
   "id": "b3f9a5b6",
   "metadata": {},
   "outputs": [
    {
     "name": "stdout",
     "output_type": "stream",
     "text": [
      "Enter the text: Hello dost my name is Gajendra Goutam \n",
      "Predicted Language: English\n"
     ]
    }
   ],
   "source": [
    "new_input = input(\"Enter the text: \")\n",
    "data = CVzer.transform([new_input])  \n",
    "predicted_language = MNB.predict(data) \n",
    "print(\"Predicted Language:\", predicted_language[0])"
   ]
  },
  {
   "cell_type": "code",
   "execution_count": 46,
   "id": "ac8b6abd",
   "metadata": {},
   "outputs": [
    {
     "name": "stdout",
     "output_type": "stream",
     "text": [
      "Enter the text:  안녕하세요, 제 이름은 가젠드라입니다.\n",
      "Predicted Language: Korean\n"
     ]
    }
   ],
   "source": [
    "new_input = input(\"Enter the text: \")\n",
    "data = CVzer.transform([new_input])  \n",
    "predicted_language = MNB.predict(data) \n",
    "print(\"Predicted Language:\", predicted_language[0])"
   ]
  },
  {
   "cell_type": "code",
   "execution_count": 49,
   "id": "cf0dcf84",
   "metadata": {},
   "outputs": [
    {
     "name": "stdout",
     "output_type": "stream",
     "text": [
      "Enter the text: مرحبا، اسمي جاجندرا.\n",
      "Predicted Language: Arabic\n"
     ]
    }
   ],
   "source": [
    "new_input = input(\"Enter the text: \")\n",
    "data = CVzer.transform([new_input])  \n",
    "predicted_language = MNB.predict(data) \n",
    "print(\"Predicted Language:\", predicted_language[0])\n"
   ]
  },
  {
   "cell_type": "code",
   "execution_count": null,
   "id": "89b566e4",
   "metadata": {},
   "outputs": [],
   "source": []
  },
  {
   "cell_type": "code",
   "execution_count": null,
   "id": "c08197d7",
   "metadata": {},
   "outputs": [],
   "source": []
  }
 ],
 "metadata": {
  "kernelspec": {
   "display_name": "Python 3 (ipykernel)",
   "language": "python",
   "name": "python3"
  },
  "language_info": {
   "codemirror_mode": {
    "name": "ipython",
    "version": 3
   },
   "file_extension": ".py",
   "mimetype": "text/x-python",
   "name": "python",
   "nbconvert_exporter": "python",
   "pygments_lexer": "ipython3",
   "version": "3.11.7"
  }
 },
 "nbformat": 4,
 "nbformat_minor": 5
}
